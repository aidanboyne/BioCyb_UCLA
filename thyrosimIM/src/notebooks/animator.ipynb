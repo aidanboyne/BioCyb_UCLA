{
 "cells": [
  {
   "cell_type": "code",
   "execution_count": 2,
   "metadata": {},
   "outputs": [],
   "source": [
    "import os\n",
    "from apng import APNG\n",
    "\n",
    "def create_apng_from_folder(png_folder):\n",
    "    # Get a list of PNG files in the folder\n",
    "    png_files = [f for f in os.listdir(png_folder) if f.lower().endswith('.png')]\n",
    "    \n",
    "    if not png_files:\n",
    "        print(\"No PNG files found in the folder.\")\n",
    "        return\n",
    "    \n",
    "    # Sort the PNG files in numerical order (if they have numerical names)\n",
    "    png_files.sort(key=lambda x: int(x.split('.')[0]) if x.split('.')[0].isdigit() else x)\n",
    "    \n",
    "    apng_frames = []\n",
    "    \n",
    "    # Read each PNG file and add it as a frame to the APNG\n",
    "    for png_file in png_files:\n",
    "        png_path = os.path.join(png_folder, png_file)\n",
    "        apng_frames.append(png_path)\n",
    "    \n",
    "    # Save the APNG\n",
    "    APNG.from_files(apng_frames, delay=10).save(\"animation/optimization_08.27.1.end.png\")\n",
    "\n",
    "create_apng_from_folder(\"img\")\n"
   ]
  },
  {
   "cell_type": "code",
   "execution_count": null,
   "metadata": {},
   "outputs": [],
   "source": []
  }
 ],
 "metadata": {
  "kernelspec": {
   "display_name": "base",
   "language": "python",
   "name": "python3"
  },
  "language_info": {
   "codemirror_mode": {
    "name": "ipython",
    "version": 3
   },
   "file_extension": ".py",
   "mimetype": "text/x-python",
   "name": "python",
   "nbconvert_exporter": "python",
   "pygments_lexer": "ipython3",
   "version": "3.9.13"
  },
  "orig_nbformat": 4
 },
 "nbformat": 4,
 "nbformat_minor": 2
}
