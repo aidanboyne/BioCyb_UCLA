{
  "cells": [
    {
      "cell_type": "markdown",
      "metadata": {
        "colab_type": "text",
        "id": "view-in-github"
      },
      "source": [
        "<a href=\"https://colab.research.google.com/github/scmassey/model-sensitivity-analysis/blob/master/LHS_PRCC.ipynb\" target=\"_parent\"><img src=\"https://colab.research.google.com/assets/colab-badge.svg\" alt=\"Open In Colab\"/></a>"
      ]
    },
    {
      "cell_type": "markdown",
      "metadata": {
        "colab_type": "text",
        "id": "LynXJ5FPHndO"
      },
      "source": [
        "# Latin Hypercube Sampling & Partial Rank Correlation Coefficients  <br/> *~ a method for analyzing model sensitivity to parameters ~*"
      ]
    },
    {
      "cell_type": "markdown",
      "metadata": {
        "colab_type": "text",
        "id": "PHmmvxwMHndP"
      },
      "source": [
        "#### Importing packages that will be used."
      ]
    },
    {
      "cell_type": "code",
      "execution_count": 1,
      "metadata": {
        "colab": {},
        "colab_type": "code",
        "id": "ZC6x-a7WHndQ"
      },
      "outputs": [],
      "source": [
        "import numpy as np\n",
        "\n",
        "from scipy import special\n",
        "\n",
        "import random\n",
        "\n",
        "from ipywidgets import interact, interactive, fixed, interact_manual\n",
        "import ipywidgets as widgets\n",
        "from IPython.display import display\n",
        "\n",
        "import pandas as pd\n",
        "\n",
        "import matplotlib.pyplot as plt\n"
      ]
    },
    {
      "cell_type": "markdown",
      "metadata": {
        "colab_type": "text",
        "id": "U0_okb6XHndS"
      },
      "source": [
        "### Specify the number of parameters to sample and the number of samples to draw from each parameter distribution. \n",
        "#### *Do not include any parameters that should be left fixed in parameterCount - those will be specified later. When choosing number of samples to draw, note that more samples (~ 1000) yields better results while fewer (~50) is faster for testing, since it requires fewer model solves.* "
      ]
    },
    {
      "cell_type": "code",
      "execution_count": 2,
      "metadata": {
        "colab": {},
        "colab_type": "code",
        "id": "EZy2ndbCHndT"
      },
      "outputs": [],
      "source": [
        "# Number of parameters to sample \n",
        "parameterCount = 2;\n",
        "\n",
        "# Number of samples to draw for each parameter\n",
        "sampleCount = 100; "
      ]
    },
    {
      "cell_type": "markdown",
      "metadata": {
        "colab_type": "text",
        "id": "i2vYkow7HndV"
      },
      "source": [
        "#### This defines functions for specifying sampled parameters' names and distributions  as well as drawing samples from a user-specified parameter distribution. Does not need any user edits."
      ]
    },
    {
      "cell_type": "code",
      "execution_count": 18,
      "metadata": {
        "colab": {},
        "colab_type": "code",
        "id": "O0kGl8MKHndV"
      },
      "outputs": [],
      "source": [
        "def parNameDist(Name,Distribution):\n",
        "    paramTemp = {}\n",
        "    paramTemp['Name']=Name\n",
        "    paramTemp['Dist']=Distribution\n",
        "    \n",
        "    return paramTemp\n",
        "  \n",
        "def sampleDistrib(modelParamName,distrib,distribSpecs): \n",
        "    \n",
        "    if distrib == 'uniform':\n",
        "        \n",
        "        mmin = distribSpecs[0].value\n",
        "        mmax = distribSpecs[1].value\n",
        "        \n",
        "        intervalwidth = (mmax - mmin) / sampleCount      # width of each \n",
        "                                                         # sampling interval\n",
        "        samples = []\n",
        "        \n",
        "        for sample in range(sampleCount):\n",
        "            \n",
        "            lower = mmin + intervalwidth * (sample-1)    # lb of interval\n",
        "            upper = mmin + intervalwidth * (sample)      # ub of interval\n",
        "            \n",
        "            sampleVal = np.random.uniform(lower, upper)  # draw a random sample \n",
        "                                                         # within the interval\n",
        "            samples.append(sampleVal)\n",
        "\n",
        "    \n",
        "    \n",
        "    elif distrib == 'normal':\n",
        "        \n",
        "        mmean= distribSpecs[0].value\n",
        "        mvar = distribSpecs[1].value\n",
        "        \n",
        "        lower = mvar*np.sqrt(2)*special.erfinv(-0.9999)+mmean # set lb of 1st\n",
        "                                                              # sample interval\n",
        "        samples = []\n",
        "        \n",
        "        for sample in range(sampleCount):\n",
        "          \n",
        "            n = sample + 1\n",
        "            \n",
        "            if n != sampleCount:\n",
        "                upper = (np.sqrt(2*mvar)*special.erfinv(2*n/sampleCount-1)\n",
        "                         + mmean)                        # ub of sample interval\n",
        "            else:\n",
        "                upper = np.sqrt(2*mvar)*special.erfinv(0.9999) + mmean\n",
        " \n",
        "            sampleVal = np.random.uniform(lower, upper)  # draw a random sample \n",
        "                                                         # within the interval\n",
        "    \n",
        "            samples.append(sampleVal)\n",
        "\n",
        "            lower = upper           # set current ub as the lb for next interval\n",
        "            \n",
        "\n",
        "    \n",
        "    elif distrib == 'triangle':\n",
        "        \n",
        "        mmin = distribSpecs[0].value\n",
        "        mmax = distribSpecs[1].value\n",
        "        mmode= distribSpecs[2].value\n",
        "    \n",
        "        samples = []\n",
        "        \n",
        "        for sample in range(sampleCount):\n",
        "          \n",
        "            n = sample + 1\n",
        "            \n",
        "            intervalarea = 1/sampleCount \n",
        "            \n",
        "            ylower = intervalarea*(n-1) # use cdf to read off area as y's &\n",
        "            yupper = intervalarea*(n)   # get corresponding x's for the pdf\n",
        "        \n",
        "        \n",
        "            # Check to see if y values = cdf(x <= mmode) \n",
        "            # for calculating correxponding x values:\n",
        "            \n",
        "            if ylower <= ((mmode - mmin)/(mmax - mmin)):     \n",
        "                lower = np.sqrt(ylower*(mmax - mmin)*(mmode - mmin)) + mmin \n",
        "\n",
        "            else:\n",
        "                lower = mmax-np.sqrt((1 - ylower)*(mmax - mmin)*(mmax - mmode))\n",
        "\n",
        "            \n",
        "            if yupper <= ((mmode - mmin)/(mmax - mmin)):    \n",
        "                upper = np.sqrt(yupper*(mmax - mmin)*(mmode - mmin)) + mmin; \n",
        "\n",
        "            else:\n",
        "                upper = mmax-np.sqrt((1 - yupper)*(mmax - mmin)*(mmax - mmode))\n",
        "\n",
        "                \n",
        "            sampleVal = np.random.uniform(lower, upper)  \n",
        "            \n",
        "            samples.append(sampleVal)\n",
        "            \n",
        "    \n",
        "    b = int(np.ceil(sampleCount/10))\n",
        "    plt.hist(samples, density = 1, bins = b) \n",
        "    \n",
        "    B=str(b)\n",
        "    \n",
        "    plt.title('Histogram of ' + modelParamName \n",
        "              + ' parameter samples for ' + B + ' bins')\n",
        "    \n",
        "    plt.ylabel('proportion of samples');\n",
        "    plt.xlabel(modelParamName + ' value')\n",
        "    \n",
        "    plt.show()\n",
        "    \n",
        "    return samples"
      ]
    },
    {
      "cell_type": "markdown",
      "metadata": {
        "colab_type": "text",
        "id": "lB1cTlDffxwk"
      },
      "source": [
        "#### Calls the function to ask for user input to name parameters and specify distributions. \n",
        "### Type these in text input boxes and dropdowns that will appear below after running the cell."
      ]
    },
    {
      "cell_type": "code",
      "execution_count": 19,
      "metadata": {
        "colab": {},
        "colab_type": "code",
        "id": "CdbdLiSadt7V"
      },
      "outputs": [
        {
          "data": {
            "application/vnd.jupyter.widget-view+json": {
              "model_id": "33b3868b075745fda3e78db68584bfde",
              "version_major": 2,
              "version_minor": 0
            },
            "text/plain": [
              "interactive(children=(Text(value='Type parameter 0 name', description='Name'), Dropdown(description='Distribut…"
            ]
          },
          "metadata": {},
          "output_type": "display_data"
        },
        {
          "data": {
            "application/vnd.jupyter.widget-view+json": {
              "model_id": "60e5048f1a224ecdae18e42905f13ea3",
              "version_major": 2,
              "version_minor": 0
            },
            "text/plain": [
              "interactive(children=(Text(value='Type parameter 1 name', description='Name'), Dropdown(description='Distribut…"
            ]
          },
          "metadata": {},
          "output_type": "display_data"
        }
      ],
      "source": [
        "params = {}\n",
        "\n",
        "for i in range(parameterCount):\n",
        "  \n",
        "    s=str(i)\n",
        "    \n",
        "    params[i] = interactive(parNameDist,\n",
        "                            Name='Type parameter ' + s + ' name', \n",
        "                            Distribution=['uniform','normal','triangle'])\n",
        "    \n",
        "    display(params[i])"
      ]
    },
    {
      "cell_type": "markdown",
      "metadata": {
        "colab_type": "text",
        "id": "9K7C0uUHHndX"
      },
      "source": [
        "### Input parameter distribution specifics in the interactive boxes that appear below after running this cell."
      ]
    },
    {
      "cell_type": "code",
      "execution_count": 22,
      "metadata": {
        "colab": {},
        "colab_type": "code",
        "id": "mDjrr9jbHndY",
        "scrolled": false
      },
      "outputs": [
        {
          "name": "stdout",
          "output_type": "stream",
          "text": [
            "Enter distribution specifics for parameter Parameter_A:\n"
          ]
        },
        {
          "data": {
            "application/vnd.jupyter.widget-view+json": {
              "model_id": "fc9e50ddc8ab451f8db22cabf69dd811",
              "version_major": 2,
              "version_minor": 0
            },
            "text/plain": [
              "FloatText(value=2.0, description='Mean:')"
            ]
          },
          "metadata": {},
          "output_type": "display_data"
        },
        {
          "data": {
            "application/vnd.jupyter.widget-view+json": {
              "model_id": "8f2dfa5641a347cf8b0da4151adb6157",
              "version_major": 2,
              "version_minor": 0
            },
            "text/plain": [
              "FloatText(value=1.0, description='Variance:')"
            ]
          },
          "metadata": {},
          "output_type": "display_data"
        },
        {
          "name": "stdout",
          "output_type": "stream",
          "text": [
            "Enter distribution specifics for parameter Parameter_B:\n"
          ]
        },
        {
          "data": {
            "application/vnd.jupyter.widget-view+json": {
              "model_id": "46e99445ba8049698cb47fa02ed4d578",
              "version_major": 2,
              "version_minor": 0
            },
            "text/plain": [
              "FloatText(value=0.0, description='Minimum:')"
            ]
          },
          "metadata": {},
          "output_type": "display_data"
        },
        {
          "data": {
            "application/vnd.jupyter.widget-view+json": {
              "model_id": "65c06e17f9ff4343b8b28fd182f69046",
              "version_major": 2,
              "version_minor": 0
            },
            "text/plain": [
              "FloatText(value=2.0, description='Maximum:')"
            ]
          },
          "metadata": {},
          "output_type": "display_data"
        }
      ],
      "source": [
        "distribSpecs={}\n",
        "\n",
        "for i in range(parameterCount):\n",
        "  \n",
        "    parName = params[i].result['Name']\n",
        "    \n",
        "    print('Enter distribution specifics for parameter ' + parName + ':')\n",
        "    \n",
        "    if params[i].result['Dist'] == 'normal':\n",
        "\n",
        "        distribSpecs[parName] = {}\n",
        "        \n",
        "        distribSpecs[parName][0] = widgets.FloatText(\n",
        "                value=2,\n",
        "                description='Mean:'\n",
        "              )\n",
        "        distribSpecs[parName][1] = widgets.FloatText(\n",
        "                value=1,\n",
        "                description='Variance:'\n",
        "              )\n",
        "\n",
        "        display(distribSpecs[parName][0], distribSpecs[parName][1])\n",
        "\n",
        "    elif params[i].result['Dist'] == 'uniform':\n",
        "\n",
        "        distribSpecs[parName] = {}\n",
        "\n",
        "        distribSpecs[parName][0] = widgets.FloatText(\n",
        "                value=0,\n",
        "                description='Minimum:'\n",
        "              )\n",
        "        distribSpecs[parName][1] = widgets.FloatText(\n",
        "                value=2,\n",
        "                description='Maximum:'\n",
        "              )\n",
        "\n",
        "        display(distribSpecs[parName][0], distribSpecs[parName][1])\n",
        "\n",
        "\n",
        "    elif params[i].result['Dist'] == 'triangle':\n",
        "      \n",
        "        distribSpecs[parName] = {}\n",
        "\n",
        "        distribSpecs[parName][0] = widgets.FloatText(\n",
        "                value=0,\n",
        "                description='Minimum:'\n",
        "              )\n",
        "        distribSpecs[parName][1] = widgets.FloatText(\n",
        "                value=2,\n",
        "                description='Maximum:'\n",
        "              )\n",
        "        distribSpecs[parName][2] = widgets.FloatText(\n",
        "                value=1,\n",
        "                description='Mode:'\n",
        "              )\n",
        "\n",
        "        display(distribSpecs[parName][0], distribSpecs[parName][1], distribSpecs[parName][2])"
      ]
    },
    {
      "cell_type": "markdown",
      "metadata": {
        "colab_type": "text",
        "id": "6_FBOVRXgizZ"
      },
      "source": [
        "#### This passes the distributions to the code for generating parameter samples, and histogram plots of samples for each parameter will appear below. "
      ]
    },
    {
      "cell_type": "code",
      "execution_count": 24,
      "metadata": {
        "colab": {},
        "colab_type": "code",
        "id": "X1Clr2PYd6Mg"
      },
      "outputs": [
        {
          "data": {
            "image/png": "[encoded data removed]",
            "text/plain": [
              "<Figure size 640x480 with 1 Axes>"
            ]
          },
          "metadata": {},
          "output_type": "display_data"
        },
        {
          "data": {
            "image/png": "[encoded data removed]",
            "text/plain": [
              "<Figure size 640x480 with 1 Axes>"
            ]
          },
          "metadata": {},
          "output_type": "display_data"
        }
      ],
      "source": [
        "parameters = {}\n",
        "for j in range(parameterCount):\n",
        "  \n",
        "    parameters[params[j].result['Name']] = sampleDistrib(params[j].result['Name'],\n",
        "                                                         params[j].result['Dist'],\n",
        "                                                         distribSpecs[params[j].result['Name']])"
      ]
    },
    {
      "cell_type": "markdown",
      "metadata": {
        "colab_type": "text",
        "id": "PdQAUyAB_QYY"
      },
      "source": [
        "#### Randomly permute each set of parameter samples in order to randomly pair the samples to more fully sample the parameter space for the Monte Carlo simulations."
      ]
    },
    {
      "cell_type": "code",
      "execution_count": 25,
      "metadata": {
        "colab": {},
        "colab_type": "code",
        "id": "HFdaJckHHnde"
      },
      "outputs": [],
      "source": [
        "LHSparams=[]\n",
        "\n",
        "for p in parameters:\n",
        "    \n",
        "    temp = parameters[p]\n",
        "    random.shuffle(temp)\n",
        "    \n",
        "    LHSparams.append(temp)"
      ]
    },
    {
      "cell_type": "markdown",
      "metadata": {
        "colab_type": "text",
        "id": "6ad1XNtD_lvN"
      },
      "source": [
        "### Define your model function.\n",
        "#### Two examples have been provided below: (1) a linear function with two sampled parameters: slope and intercept, and (2) a Lotka-Volterra predator - prey model.\n",
        "\n",
        "Note that the order and number of the parameters needs to match the order  and number of parameters speficied above to ensure accuracy when the model is solved below."
      ]
    },
    {
      "cell_type": "code",
      "execution_count": 26,
      "metadata": {
        "colab": {},
        "colab_type": "code",
        "id": "T67BWVNT_p7F"
      },
      "outputs": [],
      "source": [
        "def testlinear(x,sampledParams,unsampledParams):\n",
        "\n",
        "    m = sampledParams[0]\n",
        "    b = sampledParams[1]\n",
        "    \n",
        "    a = unsampledParams\n",
        "\n",
        "    y = m * x + b + a;\n",
        "\n",
        "    return y    "
      ]
    },
    {
      "cell_type": "code",
      "execution_count": 27,
      "metadata": {
        "colab": {},
        "colab_type": "code",
        "id": "XIcGIOHUTN43"
      },
      "outputs": [],
      "source": [
        "def myodes(y, t, sampledParams, unsampledParams):\n",
        "\n",
        "    q, r = y                           # unpack current values of y\n",
        "\n",
        "    alpha, beta = sampledParams # unpack sampled parameters\n",
        "\n",
        "    delta, lambdaa, gamma = unsampledParams   # unpack unsampled parameters\n",
        "\n",
        "    derivs = [alpha*q*r - lambdaa*q,   # list of dy/dt=f functions\n",
        "              beta*r - gamma*q*r - delta*r]\n",
        "\n",
        "    return derivs\n"
      ]
    },
    {
      "cell_type": "markdown",
      "metadata": {
        "colab_type": "text",
        "id": "gFMg4Lzl_z3T"
      },
      "source": [
        "#### Run Monte Carlo simulations for each parameter sample set.\n",
        "### *Be sure to specify a call to your model function and any necessary arguments below.* \n"
      ]
    },
    {
      "cell_type": "code",
      "execution_count": 28,
      "metadata": {
        "colab": {},
        "colab_type": "code",
        "id": "aAtqOL4P_2GP"
      },
      "outputs": [],
      "source": [
        "# EDIT THE FOLLOWING VARIABLES, UNSAMPLED PARAMETERS, & ANY OTHER ARGS HERE,\n",
        "# AS WELL AS THE CALL TO YOUR OWN MODEL FUNCTION INSIDE THE FOR LOOP BELOW\n",
        "\n",
        "x = np.linspace(0, 10, num=101) \n",
        "\n",
        "unsampledParams = 2; \n",
        "\n",
        "Output = [] \n",
        "\n",
        "for j in range(sampleCount):   \n",
        "  \n",
        "    sampledParams=[i[j] for i in LHSparams] \n",
        "    \n",
        "    sol = testlinear(x,sampledParams,unsampledParams)\n",
        "    Output.append(sol)\n",
        "    \n",
        "# EDIT THE STRING TO NAME YOUR SIM OUTPUT (for fig labels, filenames):\n",
        "labelstring = 'y'\n",
        "    \n",
        "    \n",
        "    \n",
        "# EXAMPLE CODE FOR A COUPLED ODE MODEL:\n",
        "\n",
        "import scipy.integrate as spi\n",
        "\n",
        "t = np.linspace(0,17,num=171) # time domain for myodes\n",
        "\n",
        "# odesic = [q0, r0]\n",
        "odesic = [500,1000]\n",
        "\n",
        "lambdaa = np.log(2)/7\n",
        "delta = 0.5\n",
        "gamma = 1\n",
        "\n",
        "unsampledParams = [lambdaa, delta, gamma]\n",
        "\n",
        "Simdata={}\n",
        "\n",
        "Output = [] \n",
        "\n",
        "for i in range(sampleCount):\n",
        "  \n",
        "    Simdata[i]={}\n",
        "    \n",
        "    Simdata[i]['q']=[]\n",
        "    Simdata[i]['r']=[]\n",
        "    \n",
        "for j in range(sampleCount):\n",
        "\n",
        "    sampledParams=[i[j] for i in LHSparams] \n",
        "  \n",
        "    sol=spi.odeint(myodes, odesic, t, args=(sampledParams,unsampledParams)) \n",
        "\n",
        "    Simdata[j]['q'] = sol[:,0] # solution to the equation for variable r\n",
        "    Simdata[j]['r'] = sol[:,1] # solution to the equation for variable s\n",
        "    \n",
        "    Ratio = np.divide(sol[:,0],sol[:,1]) # compute ratio to compare w/ param samples\n",
        "    \n",
        "    Output.append(Ratio)  \n",
        "                                                             \n",
        "\n",
        "labelstring = 'predator to prey ratio (q/r)'; # id for fig labels, filenames\n"
      ]
    },
    {
      "cell_type": "markdown",
      "metadata": {
        "colab_type": "text",
        "id": "9HH8nfMzc1qi"
      },
      "source": [
        "### Plot the range of simulation output generated by the all of the Monte Carlo simulations using errorbars."
      ]
    },
    {
      "cell_type": "code",
      "execution_count": 29,
      "metadata": {
        "colab": {},
        "colab_type": "code",
        "id": "UcWtaGt-QqBY"
      },
      "outputs": [
        {
          "data": {
            "image/png": "[encoded data removed]",
            "text/plain": [
              "<Figure size 640x480 with 1 Axes>"
            ]
          },
          "metadata": {},
          "output_type": "display_data"
        }
      ],
      "source": [
        "yavg = np.mean(Output, axis=0)\n",
        "yerr = np.std(Output, axis=0)\n",
        "\n",
        "plt.errorbar(t, yavg,yerr)\n",
        "plt.xlabel('x')\n",
        "# plt.xlabel('time (days)')   # for myodes\n",
        "plt.ylabel(labelstring)\n",
        "plt.title('Error bar plot of ' + labelstring + ' from LHS simulations')\n",
        "\n",
        "plt.show()"
      ]
    },
    {
      "cell_type": "markdown",
      "metadata": {
        "colab_type": "text",
        "id": "3XF6evQB_6ZN"
      },
      "source": [
        "### Compute partial rank correlation coefficients to compare simulation outputs with parameters"
      ]
    },
    {
      "cell_type": "code",
      "execution_count": 30,
      "metadata": {
        "colab": {},
        "colab_type": "code",
        "id": "O5Tbw-Id6ghf"
      },
      "outputs": [
        {
          "name": "stderr",
          "output_type": "stream",
          "text": [
            "C:\\Users\\Aidan\\AppData\\Local\\Temp\\ipykernel_30280\\233917687.py:39: RuntimeWarning: invalid value encountered in sqrt\n",
            "  prcc[w]=-Cinv[w,resultIdx]/np.sqrt(Cinv[w,w]*Cinv[resultIdx,resultIdx])\n"
          ]
        }
      ],
      "source": [
        "SampleResult=[]\n",
        "\n",
        "x_idx = 11          # time or location index of sim results \n",
        "x_idx2= x_idx+1     #   to compare w/ param sample vals\n",
        "\n",
        "LHS=[*zip(*LHSparams)]\n",
        "LHSarray=np.array(LHS)\n",
        "Outputarray=np.array(Output)\n",
        "subOut=Outputarray[0:,x_idx:x_idx2]\n",
        "\n",
        "LHSout = np.hstack((LHSarray,subOut))\n",
        "SampleResult = LHSout.tolist()\n",
        "\n",
        "\n",
        "Ranks=[]\n",
        "              \n",
        "for s in range(sampleCount):\n",
        "\n",
        "    indices = list(range(len(SampleResult[s])))\n",
        "    indices.sort(key=lambda k: SampleResult[s][k])\n",
        "    r = [0] * len(indices)\n",
        "    for i, k in enumerate(indices):\n",
        "        r[k] = i\n",
        "\n",
        "    Ranks.append(r)\n",
        "\n",
        "  \n",
        "C=np.corrcoef(Ranks);\n",
        "\n",
        "if np.linalg.det(C) < 1e-16: # determine if singular\n",
        "    Cinv = np.linalg.pinv(C) # may need to use pseudo inverse\n",
        "else:\n",
        "    Cinv = np.linalg.inv(C) \n",
        "\n",
        "resultIdx = parameterCount+1\n",
        "prcc=np.zeros(resultIdx)\n",
        "\n",
        "for w in range(parameterCount): # compute PRCC btwn each param & sim result\n",
        "    prcc[w]=-Cinv[w,resultIdx]/np.sqrt(Cinv[w,w]*Cinv[resultIdx,resultIdx])\n"
      ]
    },
    {
      "cell_type": "markdown",
      "metadata": {
        "colab_type": "text",
        "id": "86N98EtCOflg"
      },
      "source": [
        "### Plot the PRCCs for each parameter"
      ]
    },
    {
      "cell_type": "code",
      "execution_count": 31,
      "metadata": {
        "colab": {},
        "colab_type": "code",
        "id": "eSa2rx_jOepg"
      },
      "outputs": [
        {
          "data": {
            "image/png": "[encoded data removed]",
            "text/plain": [
              "<Figure size 640x480 with 1 Axes>"
            ]
          },
          "metadata": {},
          "output_type": "display_data"
        }
      ],
      "source": [
        "xp=[i for i in range(parameterCount)]\n",
        "\n",
        "plt.bar(xp,prcc[0:parameterCount], align='center')\n",
        "\n",
        "bLabels=list(parameters.keys())\n",
        "plt.xticks(xp, bLabels)\n",
        "\n",
        "plt.ylabel('PRCC value');\n",
        "\n",
        "N=str(sampleCount)\n",
        "loc=str(x_idx)\n",
        "plt.title('Partial rank correlation of params with ' + labelstring \n",
        "          + ' results \\n from ' + N + ' LHS sims, at x = ' +loc);\n",
        "\n",
        "plt.show()"
      ]
    },
    {
      "cell_type": "markdown",
      "metadata": {
        "colab_type": "text",
        "id": "uZG94ERF6it_"
      },
      "source": [
        "### Can also do PRCCs over time... "
      ]
    },
    {
      "cell_type": "code",
      "execution_count": 32,
      "metadata": {
        "colab": {},
        "colab_type": "code",
        "id": "Bja6BJWBYhou"
      },
      "outputs": [
        {
          "name": "stderr",
          "output_type": "stream",
          "text": [
            "C:\\Users\\Aidan\\AppData\\Local\\Temp\\ipykernel_30280\\3894295888.py:41: RuntimeWarning: invalid value encountered in sqrt\n",
            "  prcc[w,xi]=-Cinv[w,resultIdx]/np.sqrt(Cinv[w,w]*Cinv[resultIdx,resultIdx])\n"
          ]
        }
      ],
      "source": [
        "SampleResult=[]\n",
        "\n",
        "resultIdx = parameterCount+1\n",
        "prcc=np.zeros((resultIdx,len(x)))\n",
        "\n",
        "LHS=[*zip(*LHSparams)]\n",
        "LHSarray=np.array(LHS)\n",
        "Outputarray=np.array(Output)\n",
        "\n",
        "for xi in range(len(x)):  # loop through time or location of sim results \n",
        "    xi2  = xi+1           # to compare w/ parameter sample vals\n",
        "\n",
        "\n",
        "    subOut = Outputarray[0:,xi:xi2]\n",
        "\n",
        "    LHSout = np.hstack((LHSarray,subOut))\n",
        "    SampleResult = LHSout.tolist()\n",
        "\n",
        "\n",
        "    Ranks=[]\n",
        "              \n",
        "    for s in range(sampleCount):\n",
        "              \n",
        "      indices = list(range(len(SampleResult[s])))\n",
        "      indices.sort(key=lambda k: SampleResult[s][k])\n",
        "      r = [0] * len(indices)\n",
        "      for i, k in enumerate(indices):\n",
        "          r[k] = i\n",
        "      \n",
        "      Ranks.append(r)\n",
        "\n",
        "  \n",
        "    C=np.corrcoef(Ranks);\n",
        "\n",
        "    if np.linalg.det(C) < 1e-16: # determine if singular\n",
        "        Cinv = np.linalg.pinv(C)   # may need to use pseudo inverse\n",
        "    else:\n",
        "        Cinv = np.linalg.inv(C) \n",
        "\n",
        "    for w in range(parameterCount):  # compute PRCC btwn each param & sim result\n",
        "        prcc[w,xi]=-Cinv[w,resultIdx]/np.sqrt(Cinv[w,w]*Cinv[resultIdx,resultIdx]) "
      ]
    },
    {
      "cell_type": "markdown",
      "metadata": {
        "colab_type": "text",
        "id": "ay8DGC1Veyrn"
      },
      "source": [
        "### Plot PRCC values as they vary over time or space.\n",
        "#### *Notice PRCC can change with respect to the independent variable (x-axis). This may be helpful for certain applications, as opposed to only looking at a \"snapshot.\"*"
      ]
    },
    {
      "cell_type": "code",
      "execution_count": 33,
      "metadata": {
        "colab": {},
        "colab_type": "code",
        "id": "01aiOrI7b2VN"
      },
      "outputs": [
        {
          "data": {
            "image/png": "[encoded data removed]",
            "text/plain": [
              "<Figure size 640x480 with 1 Axes>"
            ]
          },
          "metadata": {},
          "output_type": "display_data"
        }
      ],
      "source": [
        "for p in range(parameterCount):\n",
        "    plt.plot(x,prcc[p,])\n",
        "\n",
        "\n",
        "labels=list(parameters.keys())\n",
        "plt.legend(labels)\n",
        "\n",
        "plt.ylabel('PRCC value');\n",
        "plt.xlabel('x')\n",
        "\n",
        "N=str(sampleCount)\n",
        "plt.title('Partial rank correlation of params with ' + labelstring \n",
        "          + ' results \\n from ' + N + ' LHS sims');\n",
        "\n",
        "plt.show()"
      ]
    },
    {
      "cell_type": "markdown",
      "metadata": {
        "colab_type": "text",
        "id": "2z8fXWcYxalX"
      },
      "source": [
        "##That's it, you're done! Happy modeling."
      ]
    }
  ],
  "metadata": {
    "colab": {
      "collapsed_sections": [],
      "include_colab_link": true,
      "name": "LHS-PRCC.ipynb",
      "provenance": [],
      "version": "0.3.2"
    },
    "kernelspec": {
      "display_name": "Python 3",
      "language": "python",
      "name": "python3"
    },
    "language_info": {
      "codemirror_mode": {
        "name": "ipython",
        "version": 3
      },
      "file_extension": ".py",
      "mimetype": "text/x-python",
      "name": "python",
      "nbconvert_exporter": "python",
      "pygments_lexer": "ipython3",
      "version": "3.9.13"
    }
  },
  "nbformat": 4,
  "nbformat_minor": 0
}
